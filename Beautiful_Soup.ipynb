{
 "metadata": {
  "language_info": {
   "codemirror_mode": {
    "name": "ipython",
    "version": 3
   },
   "file_extension": ".py",
   "mimetype": "text/x-python",
   "name": "python",
   "nbconvert_exporter": "python",
   "pygments_lexer": "ipython3",
   "version": "3.7.6-final"
  },
  "orig_nbformat": 2,
  "kernelspec": {
   "name": "python3",
   "display_name": "Python 3",
   "language": "python"
  }
 },
 "nbformat": 4,
 "nbformat_minor": 2,
 "cells": [
  {
   "source": [
    "# Import all necessary libraries -"
   ],
   "cell_type": "markdown",
   "metadata": {}
  },
  {
   "cell_type": "code",
   "execution_count": 1,
   "metadata": {},
   "outputs": [],
   "source": [
    "from splinter import Browser\n",
    "from sqlalchemy import func, create_engine\n",
    "from bs4 import BeautifulSoup as bs\n",
    "import requests, re, time, pymysql, pandas as pd\n",
    "pymysql.install_as_MySQLdb()"
   ]
  },
  {
   "source": [
    "# Get location for scrape"
   ],
   "cell_type": "markdown",
   "metadata": {}
  },
  {
   "cell_type": "code",
   "execution_count": 2,
   "metadata": {},
   "outputs": [
    {
     "output_type": "stream",
     "name": "stdout",
     "text": [
      "<Response [200]>\n"
     ]
    }
   ],
   "source": [
    "url = 'https://earthquake.usgs.gov/earthquakes/feed/v1.0/atom.php'\n",
    "reqs = requests.get(url)\n",
    "print(reqs)"
   ]
  },
  {
   "source": [
    "## Using Beautiful Soup to get what's on the page so that we can navigate"
   ],
   "cell_type": "markdown",
   "metadata": {}
  },
  {
   "cell_type": "code",
   "execution_count": 4,
   "metadata": {},
   "outputs": [],
   "source": [
    "soup = bs(reqs.text, 'lxml')\n",
    "#print(soup)"
   ]
  },
  {
   "source": [
    "## Take the links from the li and place them into empty list with .geojson instead of .atom at the end of each input."
   ],
   "cell_type": "markdown",
   "metadata": {}
  },
  {
   "cell_type": "code",
   "execution_count": 5,
   "metadata": {},
   "outputs": [],
   "source": [
    "listoflinks = []\n",
    "for link in soup.find_all('li'):\n",
    "    listoflinks.append(link.a['href'][:-4] + 'geojson')"
   ]
  },
  {
   "cell_type": "code",
   "execution_count": 6,
   "metadata": {},
   "outputs": [],
   "source": [
    "url = url[:27]\n",
    "for i in range(len(listoflinks)):\n",
    "    listoflinks[i] = url + listoflinks[i]\n",
    "#print(listoflinks)"
   ]
  },
  {
   "source": [
    "# Make Database connection - Connect to Database "
   ],
   "cell_type": "markdown",
   "metadata": {}
  },
  {
   "cell_type": "code",
   "execution_count": 11,
   "metadata": {},
   "outputs": [],
   "source": [
    "remote_db_endpoint = ''\n",
    "remote_db_port = ''\n",
    "remote_db_user = ''\n",
    "remote_db_pwd = ''\n",
    "remote_db_name = ''"
   ]
  },
  {
   "cell_type": "code",
   "execution_count": 12,
   "metadata": {},
   "outputs": [],
   "source": [
    "engine = create_engine(f\"mysql://{remote_db_user}:{remote_db_pwd}@{remote_db_endpoint}:{remote_db_port}/{remote_db_name}\")\n",
    "conn = engine.connect()"
   ]
  },
  {
   "source": [
    "## Turn the list into a DataFrame"
   ],
   "cell_type": "markdown",
   "metadata": {}
  },
  {
   "cell_type": "code",
   "execution_count": 13,
   "metadata": {},
   "outputs": [
    {
     "output_type": "execute_result",
     "data": {
      "text/plain": [
       "geojsonLoc    20\n",
       "dtype: int64"
      ]
     },
     "metadata": {},
     "execution_count": 13
    }
   ],
   "source": [
    "sqldf = pd.DataFrame({'geojsonLoc': listoflinks})\n",
    "sqldf.count()"
   ]
  },
  {
   "source": [
    "## Make sure that the if_exists is what you want it to be. "
   ],
   "cell_type": "markdown",
   "metadata": {}
  },
  {
   "cell_type": "code",
   "execution_count": 14,
   "metadata": {},
   "outputs": [],
   "source": [
    "sqldf.to_sql('geojsonLoc', con=conn, if_exists='replace', index=False)"
   ]
  },
  {
   "cell_type": "code",
   "execution_count": 15,
   "metadata": {},
   "outputs": [
    {
     "output_type": "execute_result",
     "data": {
      "text/plain": [
       "geojsonLoc    20\n",
       "dtype: int64"
      ]
     },
     "metadata": {},
     "execution_count": 15
    }
   ],
   "source": [
    "query = \"\"\"SELECT * FROM geojsonLoc\"\"\"\n",
    "implementCheck = pd.read_sql(query, con=conn)\n",
    "implementCheck.count()"
   ]
  },
  {
   "cell_type": "code",
   "execution_count": null,
   "metadata": {},
   "outputs": [],
   "source": []
  }
 ]
}