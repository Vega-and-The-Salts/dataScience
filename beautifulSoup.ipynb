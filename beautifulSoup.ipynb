{
 "metadata": {
  "language_info": {
   "codemirror_mode": {
    "name": "ipython",
    "version": 3
   },
   "file_extension": ".py",
   "mimetype": "text/x-python",
   "name": "python",
   "nbconvert_exporter": "python",
   "pygments_lexer": "ipython3",
   "version": "3.7.6-final"
  },
  "orig_nbformat": 2,
  "kernelspec": {
   "name": "python3",
   "display_name": "Python 3",
   "language": "python"
  }
 },
 "nbformat": 4,
 "nbformat_minor": 2,
 "cells": [
  {
   "source": [
    "# Import all necessary libraries -"
   ],
   "cell_type": "markdown",
   "metadata": {}
  },
  {
   "cell_type": "code",
   "execution_count": 6,
   "metadata": {},
   "outputs": [],
   "source": [
    "from splinter import Browser\n",
    "from sqlalchemy import func, create_engine\n",
    "from bs4 import BeautifulSoup as bs\n",
    "import requests, re, time, pymysql, pandas as pd\n",
    "pymysql.install_as_MySQLdb()"
   ]
  },
  {
   "source": [
    "# Get location for scrape"
   ],
   "cell_type": "markdown",
   "metadata": {}
  },
  {
   "cell_type": "code",
   "execution_count": 7,
   "metadata": {},
   "outputs": [
    {
     "output_type": "stream",
     "name": "stdout",
     "text": [
      "<Response [200]>\n"
     ]
    }
   ],
   "source": [
    "url = 'https://earthquake.usgs.gov/earthquakes/feed/v1.0/atom.php'\n",
    "reqs = requests.get(url)\n",
    "print(reqs)"
   ]
  },
  {
   "source": [
    "## Using Beautiful Soup to get what's on the page so that we can navigate"
   ],
   "cell_type": "markdown",
   "metadata": {}
  },
  {
   "cell_type": "code",
   "execution_count": 8,
   "metadata": {},
   "outputs": [
    {
     "output_type": "stream",
     "name": "stdout",
     "text": [
      "<!DOCTYPE html>\n<html lang=\"en\">\n<head>\n<title>ATOM Syndication</title>\n<meta charset=\"utf-8\"/>\n<meta content=\"width=device-width, initial-scale=1\" name=\"viewport\"/>\n<link href=\"/theme/site/earthquake/index.css\" rel=\"stylesheet\"/><link href=\"css/feedPages.css\" rel=\"stylesheet\"/><meta content=\"USGS Earthquake Hazards Program, responsible for monitoring, reporting, and researching earthquakes and earthquake hazards\" name=\"description\"/><meta content=\"aftershock,earthquake,epicenter,fault,foreshock,geologist,geophysics,hazard,hypocenter,intensity,intensity scale,magnitude,magnitude scale,mercalli,plate,richter,seismic,seismicity,seismogram,seismograph,seismologist,seismology,subduction,tectonics,tsunami,quake,sismologico,sismologia\" name=\"keywords\"/> <link href=\"https://fonts.googleapis.com/icon?family=Material+Icons|Merriweather:400,400italic,700|Source+Sans+Pro:400,300,700\" rel=\"stylesheet\"/>\n</head>\n<body>\n<header class=\"site-header\" role=\"banner\">\n<a class=\"site-logo\" href=\"/\" title=\"U.S. Geological Survey\">\n<img alt=\"\" src=\"/theme/images/usgs-logo.svg\"/>\n</a>\n<a class=\"jumplink-navigation\" href=\"#site-sectionnav\">Jump to Navigation</a>\n</header>\n<main aria-labelledby=\"page-header\" class=\"page\" role=\"main\">\n<header class=\"page-header\" id=\"page-header\">\n<h1>ATOM Syndication</h1>\n</header>\n<div class=\"page-content\">\n<div class=\"row feed-format\">\n<div class=\"column three-of-five\">\n<h2>Description</h2>\n<p>\n      This documentation goes over the details of the ATOM source response.\n      Many browsers (or other feed readers) will render this format in a\n      reader-specific manner. See the\n      <a href=\"https://www.w3.org/2005/Atom\" target=\"_blank\">\n        ATOM specification\n      </a>\n      or\n      <a href=\"https://www.atomenabled.org/developers/\" target=\"_blank\">\n        Atom Enabled\n      </a>\n      for general information.\n    </p>\n<p>\n      This feed adheres to the USGS Earthquakes\n      <a href=\"/earthquakes/feed/policy.php\">Feed Lifecycle Policy</a>.\n    </p>\n<h2>Usage</h2>\n<p>\n      To request this output format, use “format=atom”.\n    </p>\n<h2>Output</h2>\n<p>Screenshot of the Magnitude Atom feed.</p>\n<img alt=\"screenshot of the earthqauke Atom feed\" class=\"screenshot\" src=\"images/screenshot_atom.jpg\"/>\n</div>\n<div class=\"column two-of-five\">\n<h2>Feeds</h2>\n<h3>Past Hour</h3><small>Updated every minute.</small>\n<ul>\n<li><a href=\"/earthquakes/feed/v1.0/summary/significant_hour.atom\">Significant Earthquakes</a>\n</li>\n<li><a href=\"/earthquakes/feed/v1.0/summary/4.5_hour.atom\">M4.5+ Earthquakes</a>\n</li>\n<li><a href=\"/earthquakes/feed/v1.0/summary/2.5_hour.atom\">M2.5+ Earthquakes</a>\n</li>\n<li><a href=\"/earthquakes/feed/v1.0/summary/1.0_hour.atom\">M1.0+ Earthquakes</a>\n</li>\n<li><a href=\"/earthquakes/feed/v1.0/summary/all_hour.atom\">All Earthquakes</a>\n</li>\n</ul>\n<h3>Past Day</h3><small>Updated every minute.</small>\n<ul>\n<li><a href=\"/earthquakes/feed/v1.0/summary/significant_day.atom\">Significant Earthquakes</a>\n</li>\n<li><a href=\"/earthquakes/feed/v1.0/summary/4.5_day.atom\">M4.5+ Earthquakes</a>\n</li>\n<li><a href=\"/earthquakes/feed/v1.0/summary/2.5_day.atom\">M2.5+ Earthquakes</a>\n</li>\n<li><a href=\"/earthquakes/feed/v1.0/summary/1.0_day.atom\">M1.0+ Earthquakes</a>\n</li>\n<li><a href=\"/earthquakes/feed/v1.0/summary/all_day.atom\">All Earthquakes</a>\n</li>\n</ul>\n<h3>Past 7 Days</h3><small>Updated every minute.</small>\n<ul>\n<li><a href=\"/earthquakes/feed/v1.0/summary/significant_week.atom\">Significant Earthquakes</a>\n</li>\n<li><a href=\"/earthquakes/feed/v1.0/summary/4.5_week.atom\">M4.5+ Earthquakes</a>\n</li>\n<li><a href=\"/earthquakes/feed/v1.0/summary/2.5_week.atom\">M2.5+ Earthquakes</a>\n</li>\n<li><a href=\"/earthquakes/feed/v1.0/summary/1.0_week.atom\">M1.0+ Earthquakes</a>\n</li>\n<li><a href=\"/earthquakes/feed/v1.0/summary/all_week.atom\">All Earthquakes</a>\n</li>\n</ul>\n<h3>Past 30 Days</h3><small>Updated every minute.</small>\n<ul>\n<li><a href=\"/earthquakes/feed/v1.0/summary/significant_month.atom\">Significant Earthquakes</a>\n</li>\n<li><a href=\"/earthquakes/feed/v1.0/summary/4.5_month.atom\">M4.5+ Earthquakes</a>\n</li>\n<li><a href=\"/earthquakes/feed/v1.0/summary/2.5_month.atom\">M2.5+ Earthquakes</a>\n</li>\n<li><a href=\"/earthquakes/feed/v1.0/summary/1.0_month.atom\">M1.0+ Earthquakes</a>\n</li>\n<li><a href=\"/earthquakes/feed/v1.0/summary/all_month.atom\">All Earthquakes</a>\n</li>\n</ul> </div>\n</div>\n</div>\n<footer class=\"page-footer\"><p><a href=\"/contactus/?to=\">Questions or comments?</a></p><nav aria-label=\"Share this page\" class=\"page-social\"> <a class=\"facebook\" data-link-template=\"https://www.facebook.com/sharer.php?u={URL}\" href=\"https://www.facebook.com/sharer.php?u=https%3A%2F%2F\" title=\"Share using Facebook\">Facebook</a> <a class=\"twitter\" data-link-template=\"https://twitter.com/intent/tweet?url={URL}&amp;text=USGS%20%7C%20{TITLE}\" href=\"https://twitter.com/intent/tweet?url=https%3A%2F%2F&amp;text=USGS%20%7C%20ATOM+Syndication\" title=\"Share using Twitter\">Twitter</a> <a class=\"google-plus\" data-link-template=\"https://plusone.google.com/_/+1/confirm?url={URL}\" href=\"https://plusone.google.com/_/+1/confirm?url=https%3A%2F%2F\" title=\"Share using Google\">Google</a> <a class=\"email\" data-link-template=\"mailto:?to=&amp;subject={TITLE}&amp;body={URL}\" href=\"mailto:?to=&amp;subject=ATOM+Syndication&amp;body=https%3A%2F%2F\" title=\"Share using Email\">Email</a></nav></footer> </main>\n<nav aria-label=\"Navigation\" class=\"site-footer\">\n<section aria-label=\"Section Navigation\" class=\"site-sectionnav\" id=\"site-sectionnav\"><a class=\"up-one-level\" href=\"/earthquakes/feed/\">Feeds and Notifications</a><section><header>Real-time Notifications</header><a href=\"/ens/\">Earthquake Notification Service</a><a href=\"/earthquakes/ted/\">Tweet Earthquake Dispatch</a></section><section><header>Real-time Feeds</header><a class=\"selected\" href=\"/earthquakes/feed/v1.0/atom.php\">ATOM</a><a href=\"/earthquakes/feed/v1.0/kml.php\">KML</a><a href=\"/earthquakes/feed/v1.0/csv.php\">Spreadsheet</a><a href=\"/earthquakes/feed/v1.0/quakeml.php\">QuakeML</a><a href=\"/earthquakes/feed/v1.0/geojson.php\">GeoJSON Summary</a><a href=\"/earthquakes/feed/v1.0/geojson_detail.php\">GeoJSON Detail</a></section><section><header>For Developers</header><a href=\"/fdsnws/event/1/\">API Documentation - EQ Catalog</a><a href=\"/earthquakes/feed/v1.0/changelog.php\">Change Log</a><a href=\"/earthquakes/feed/policy.php\">Feed Lifecycle Policy</a><a href=\"https://github.com/usgs/devcorner\">Developer's Corner</a><a href=\"/ws/\">Web Services</a><a href=\"https://geohazards.usgs.gov/mailman/listinfo/realtime-feeds\">Mailing List-Announcements</a><a href=\"https://geohazards.usgs.gov/mailman/listinfo/realtime-feed-users\">Mailing List-Forum/Questions</a></section></section><section aria-label=\"Site Navigation\" class=\"site-sitenav\"><a href=\"#earthquakes\">Earthquakes</a><a href=\"#hazards\">Hazards</a><a href=\"#data\">Data</a><a href=\"#learn\">Learn</a><a href=\"#monitoring\">Monitoring</a><a href=\"#research\">Research</a></section>\n<form accept-charset=\"UTF-8\" action=\"//search.usa.gov/search\" class=\"site-search\" method=\"get\" role=\"search\">\n<input name=\"utf8\" type=\"hidden\" value=\"✓\"/>\n<input name=\"affiliate\" type=\"hidden\" value=\"usgs\"/>\n<input name=\"sitelimit\" type=\"hidden\" value=\"earthquake.usgs.gov\"/>\n<input id=\"query\" name=\"query\" placeholder=\"Search...\" title=\"Search\" type=\"search\"/>\n<button type=\"submit\">Search</button>\n</form>\n</nav>\n<footer class=\"site-commonnav\"><a href=\"#home\">Home</a><a href=\"#aboutus\">About Us</a><a href=\"#contactus\">Contact Us</a><a href=\"#legal\">Legal</a><a href=\"#partners\">Partners</a></footer><!--[if lte IE 9]><script src=\"/theme/js/classList.js\"></script><![endif]--><script src=\"/theme/js/index.js\"></script></body>\n</html>\n\n"
     ]
    }
   ],
   "source": [
    "soup = bs(reqs.text, 'lxml')\n",
    "print(soup)"
   ]
  },
  {
   "source": [
    "## Take the links from the li and place them into empty list with .geojson instead of .atom at the end of each input."
   ],
   "cell_type": "markdown",
   "metadata": {}
  },
  {
   "cell_type": "code",
   "execution_count": 9,
   "metadata": {},
   "outputs": [],
   "source": [
    "listoflinks = []\n",
    "for link in soup.find_all('li'):\n",
    "    listoflinks.append(link.a['href'][:-4] + 'geojson')"
   ]
  },
  {
   "cell_type": "code",
   "execution_count": 10,
   "metadata": {},
   "outputs": [
    {
     "output_type": "stream",
     "name": "stdout",
     "text": [
      "https://earthquake.usgs.gov/earthquakes/feed/v1.0/summary/significant_hour.geojson\nhttps://earthquake.usgs.gov/earthquakes/feed/v1.0/summary/4.5_hour.geojson\nhttps://earthquake.usgs.gov/earthquakes/feed/v1.0/summary/2.5_hour.geojson\nhttps://earthquake.usgs.gov/earthquakes/feed/v1.0/summary/1.0_hour.geojson\nhttps://earthquake.usgs.gov/earthquakes/feed/v1.0/summary/all_hour.geojson\nhttps://earthquake.usgs.gov/earthquakes/feed/v1.0/summary/significant_day.geojson\nhttps://earthquake.usgs.gov/earthquakes/feed/v1.0/summary/4.5_day.geojson\nhttps://earthquake.usgs.gov/earthquakes/feed/v1.0/summary/2.5_day.geojson\nhttps://earthquake.usgs.gov/earthquakes/feed/v1.0/summary/1.0_day.geojson\nhttps://earthquake.usgs.gov/earthquakes/feed/v1.0/summary/all_day.geojson\nhttps://earthquake.usgs.gov/earthquakes/feed/v1.0/summary/significant_week.geojson\nhttps://earthquake.usgs.gov/earthquakes/feed/v1.0/summary/4.5_week.geojson\nhttps://earthquake.usgs.gov/earthquakes/feed/v1.0/summary/2.5_week.geojson\nhttps://earthquake.usgs.gov/earthquakes/feed/v1.0/summary/1.0_week.geojson\nhttps://earthquake.usgs.gov/earthquakes/feed/v1.0/summary/all_week.geojson\nhttps://earthquake.usgs.gov/earthquakes/feed/v1.0/summary/significant_month.geojson\nhttps://earthquake.usgs.gov/earthquakes/feed/v1.0/summary/4.5_month.geojson\nhttps://earthquake.usgs.gov/earthquakes/feed/v1.0/summary/2.5_month.geojson\nhttps://earthquake.usgs.gov/earthquakes/feed/v1.0/summary/1.0_month.geojson\nhttps://earthquake.usgs.gov/earthquakes/feed/v1.0/summary/all_month.geojson\n"
     ]
    }
   ],
   "source": [
    "url = url[:27]\n",
    "for i in range(len(listoflinks)):\n",
    "    listoflinks[i] = url + listoflinks[i]\n",
    "print(listoflinks)"
   ]
  },
  {
   "source": [
    "# Make Database connection - Connect to Database "
   ],
   "cell_type": "markdown",
   "metadata": {}
  },
  {
   "cell_type": "code",
   "execution_count": 11,
   "metadata": {},
   "outputs": [],
   "source": [
    "remote_db_endpoint = ''\n",
    "remote_db_port = ''\n",
    "remote_db_user = ''\n",
    "remote_db_pwd = ''\n",
    "remote_db_name = ''"
   ]
  },
  {
   "cell_type": "code",
   "execution_count": 12,
   "metadata": {},
   "outputs": [],
   "source": [
    "engine = create_engine(f\"mysql://{remote_db_user}:{remote_db_pwd}@{remote_db_endpoint}:{remote_db_port}/{remote_db_name}\")\n",
    "conn = engine.connect()"
   ]
  },
  {
   "source": [
    "## Turn the list into a DataFrame"
   ],
   "cell_type": "markdown",
   "metadata": {}
  },
  {
   "cell_type": "code",
   "execution_count": 13,
   "metadata": {},
   "outputs": [
    {
     "output_type": "execute_result",
     "data": {
      "text/plain": [
       "geojsonLoc    20\n",
       "dtype: int64"
      ]
     },
     "metadata": {},
     "execution_count": 13
    }
   ],
   "source": [
    "sqldf = pd.DataFrame({'geojsonLoc': listoflinks})\n",
    "sqldf.count()"
   ]
  },
  {
   "source": [
    "## Make sure that the if_exists is what you want it to be. "
   ],
   "cell_type": "markdown",
   "metadata": {}
  },
  {
   "cell_type": "code",
   "execution_count": 14,
   "metadata": {},
   "outputs": [],
   "source": [
    "sqldf.to_sql('geojsonLoc', con=conn, if_exists='replace', index=False)"
   ]
  },
  {
   "cell_type": "code",
   "execution_count": 15,
   "metadata": {},
   "outputs": [
    {
     "output_type": "execute_result",
     "data": {
      "text/plain": [
       "geojsonLoc    20\n",
       "dtype: int64"
      ]
     },
     "metadata": {},
     "execution_count": 15
    }
   ],
   "source": [
    "query = \"\"\"SELECT * FROM geojsonLoc\"\"\"\n",
    "implementCheck = pd.read_sql(query, con=conn)\n",
    "implementCheck.count()"
   ]
  },
  {
   "cell_type": "code",
   "execution_count": null,
   "metadata": {},
   "outputs": [],
   "source": []
  }
 ]
}